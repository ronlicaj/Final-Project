{
 "cells": [
  {
   "cell_type": "markdown",
   "id": "9dfb28c4",
   "metadata": {},
   "source": [
    "## Yahoo BitCoin Data"
   ]
  },
  {
   "cell_type": "code",
   "execution_count": 1,
   "id": "824e8a5b",
   "metadata": {},
   "outputs": [],
   "source": [
    "# import libraries\n",
    "import numpy as np\n",
    "import pandas as pd\n",
    "import matplotlib.pyplot as plt\n",
    "import pandas_datareader as pdr\n",
    "import datetime as dt"
   ]
  },
  {
   "cell_type": "code",
   "execution_count": 2,
   "id": "9d37a55e",
   "metadata": {},
   "outputs": [],
   "source": [
    "# specifying the ticker\n",
    "ticker = 'BTC-USD'"
   ]
  },
  {
   "cell_type": "code",
   "execution_count": 3,
   "id": "aee1e3c0",
   "metadata": {},
   "outputs": [],
   "source": [
    "# time frame \n",
    "start = dt.datetime(2021, 2, 10)\n",
    "end = dt.datetime(2021, 9, 10)"
   ]
  },
  {
   "cell_type": "code",
   "execution_count": 4,
   "id": "352081fa",
   "metadata": {},
   "outputs": [
    {
     "data": {
      "text/html": [
       "<div>\n",
       "<style scoped>\n",
       "    .dataframe tbody tr th:only-of-type {\n",
       "        vertical-align: middle;\n",
       "    }\n",
       "\n",
       "    .dataframe tbody tr th {\n",
       "        vertical-align: top;\n",
       "    }\n",
       "\n",
       "    .dataframe thead th {\n",
       "        text-align: right;\n",
       "    }\n",
       "</style>\n",
       "<table border=\"1\" class=\"dataframe\">\n",
       "  <thead>\n",
       "    <tr style=\"text-align: right;\">\n",
       "      <th></th>\n",
       "      <th>High</th>\n",
       "      <th>Low</th>\n",
       "      <th>Open</th>\n",
       "      <th>Close</th>\n",
       "      <th>Volume</th>\n",
       "      <th>Adj Close</th>\n",
       "    </tr>\n",
       "    <tr>\n",
       "      <th>Date</th>\n",
       "      <th></th>\n",
       "      <th></th>\n",
       "      <th></th>\n",
       "      <th></th>\n",
       "      <th></th>\n",
       "      <th></th>\n",
       "    </tr>\n",
       "  </thead>\n",
       "  <tbody>\n",
       "    <tr>\n",
       "      <th>2021-02-10</th>\n",
       "      <td>47145.566406</td>\n",
       "      <td>43881.152344</td>\n",
       "      <td>46469.761719</td>\n",
       "      <td>44918.183594</td>\n",
       "      <td>87301089896</td>\n",
       "      <td>44918.183594</td>\n",
       "    </tr>\n",
       "    <tr>\n",
       "      <th>2021-02-11</th>\n",
       "      <td>48463.468750</td>\n",
       "      <td>44187.761719</td>\n",
       "      <td>44898.710938</td>\n",
       "      <td>47909.332031</td>\n",
       "      <td>81388911810</td>\n",
       "      <td>47909.332031</td>\n",
       "    </tr>\n",
       "    <tr>\n",
       "      <th>2021-02-12</th>\n",
       "      <td>48745.734375</td>\n",
       "      <td>46424.976562</td>\n",
       "      <td>47877.035156</td>\n",
       "      <td>47504.851562</td>\n",
       "      <td>76555041196</td>\n",
       "      <td>47504.851562</td>\n",
       "    </tr>\n",
       "    <tr>\n",
       "      <th>2021-02-13</th>\n",
       "      <td>48047.746094</td>\n",
       "      <td>46392.281250</td>\n",
       "      <td>47491.203125</td>\n",
       "      <td>47105.515625</td>\n",
       "      <td>70250456155</td>\n",
       "      <td>47105.515625</td>\n",
       "    </tr>\n",
       "    <tr>\n",
       "      <th>2021-02-14</th>\n",
       "      <td>49487.640625</td>\n",
       "      <td>47114.507812</td>\n",
       "      <td>47114.507812</td>\n",
       "      <td>48717.289062</td>\n",
       "      <td>71248675228</td>\n",
       "      <td>48717.289062</td>\n",
       "    </tr>\n",
       "    <tr>\n",
       "      <th>...</th>\n",
       "      <td>...</td>\n",
       "      <td>...</td>\n",
       "      <td>...</td>\n",
       "      <td>...</td>\n",
       "      <td>...</td>\n",
       "      <td>...</td>\n",
       "    </tr>\n",
       "    <tr>\n",
       "      <th>2021-09-06</th>\n",
       "      <td>52853.765625</td>\n",
       "      <td>43285.207031</td>\n",
       "      <td>52660.480469</td>\n",
       "      <td>46811.128906</td>\n",
       "      <td>65210059683</td>\n",
       "      <td>46811.128906</td>\n",
       "    </tr>\n",
       "    <tr>\n",
       "      <th>2021-09-07</th>\n",
       "      <td>47334.054688</td>\n",
       "      <td>44561.394531</td>\n",
       "      <td>46827.761719</td>\n",
       "      <td>46091.390625</td>\n",
       "      <td>49007762488</td>\n",
       "      <td>46091.390625</td>\n",
       "    </tr>\n",
       "    <tr>\n",
       "      <th>2021-09-08</th>\n",
       "      <td>47261.949219</td>\n",
       "      <td>45669.738281</td>\n",
       "      <td>45774.742188</td>\n",
       "      <td>46391.421875</td>\n",
       "      <td>38672657013</td>\n",
       "      <td>46391.421875</td>\n",
       "    </tr>\n",
       "    <tr>\n",
       "      <th>2021-09-09</th>\n",
       "      <td>47031.742188</td>\n",
       "      <td>44344.484375</td>\n",
       "      <td>46396.664062</td>\n",
       "      <td>44883.910156</td>\n",
       "      <td>39154666597</td>\n",
       "      <td>44883.910156</td>\n",
       "    </tr>\n",
       "    <tr>\n",
       "      <th>2021-09-10</th>\n",
       "      <td>45969.292969</td>\n",
       "      <td>44818.265625</td>\n",
       "      <td>44869.839844</td>\n",
       "      <td>45201.457031</td>\n",
       "      <td>34499835245</td>\n",
       "      <td>45201.457031</td>\n",
       "    </tr>\n",
       "  </tbody>\n",
       "</table>\n",
       "<p>214 rows × 6 columns</p>\n",
       "</div>"
      ],
      "text/plain": [
       "                    High           Low          Open         Close  \\\n",
       "Date                                                                 \n",
       "2021-02-10  47145.566406  43881.152344  46469.761719  44918.183594   \n",
       "2021-02-11  48463.468750  44187.761719  44898.710938  47909.332031   \n",
       "2021-02-12  48745.734375  46424.976562  47877.035156  47504.851562   \n",
       "2021-02-13  48047.746094  46392.281250  47491.203125  47105.515625   \n",
       "2021-02-14  49487.640625  47114.507812  47114.507812  48717.289062   \n",
       "...                  ...           ...           ...           ...   \n",
       "2021-09-06  52853.765625  43285.207031  52660.480469  46811.128906   \n",
       "2021-09-07  47334.054688  44561.394531  46827.761719  46091.390625   \n",
       "2021-09-08  47261.949219  45669.738281  45774.742188  46391.421875   \n",
       "2021-09-09  47031.742188  44344.484375  46396.664062  44883.910156   \n",
       "2021-09-10  45969.292969  44818.265625  44869.839844  45201.457031   \n",
       "\n",
       "                 Volume     Adj Close  \n",
       "Date                                   \n",
       "2021-02-10  87301089896  44918.183594  \n",
       "2021-02-11  81388911810  47909.332031  \n",
       "2021-02-12  76555041196  47504.851562  \n",
       "2021-02-13  70250456155  47105.515625  \n",
       "2021-02-14  71248675228  48717.289062  \n",
       "...                 ...           ...  \n",
       "2021-09-06  65210059683  46811.128906  \n",
       "2021-09-07  49007762488  46091.390625  \n",
       "2021-09-08  38672657013  46391.421875  \n",
       "2021-09-09  39154666597  44883.910156  \n",
       "2021-09-10  34499835245  45201.457031  \n",
       "\n",
       "[214 rows x 6 columns]"
      ]
     },
     "execution_count": 4,
     "metadata": {},
     "output_type": "execute_result"
    }
   ],
   "source": [
    "# getting the data from yahoo\n",
    "df = pdr.get_data_yahoo(ticker, start, end)\n",
    "df"
   ]
  },
  {
   "cell_type": "code",
   "execution_count": 5,
   "id": "f774066a",
   "metadata": {},
   "outputs": [],
   "source": [
    "df.to_csv('btc_stock.csv')"
   ]
  },
  {
   "cell_type": "code",
   "execution_count": 6,
   "id": "87c19348",
   "metadata": {},
   "outputs": [
    {
     "data": {
      "text/plain": [
       "DatetimeIndex(['2021-02-10', '2021-02-11', '2021-02-12', '2021-02-13',\n",
       "               '2021-02-14', '2021-02-15', '2021-02-16', '2021-02-17',\n",
       "               '2021-02-18', '2021-02-19',\n",
       "               ...\n",
       "               '2021-09-01', '2021-09-02', '2021-09-03', '2021-09-04',\n",
       "               '2021-09-05', '2021-09-06', '2021-09-07', '2021-09-08',\n",
       "               '2021-09-09', '2021-09-10'],\n",
       "              dtype='datetime64[ns]', name='Date', length=214, freq=None)"
      ]
     },
     "execution_count": 6,
     "metadata": {},
     "output_type": "execute_result"
    }
   ],
   "source": [
    "df.index"
   ]
  },
  {
   "cell_type": "code",
   "execution_count": 7,
   "id": "b8203c85",
   "metadata": {},
   "outputs": [],
   "source": [
    "df = df.drop(columns=['High', 'Low', 'Open', 'Volume', 'Adj Close'])"
   ]
  },
  {
   "cell_type": "code",
   "execution_count": 8,
   "id": "4bf4fff7",
   "metadata": {},
   "outputs": [
    {
     "name": "stdout",
     "output_type": "stream",
     "text": [
      "<class 'pandas.core.frame.DataFrame'>\n",
      "DatetimeIndex: 214 entries, 2021-02-10 to 2021-09-10\n",
      "Data columns (total 1 columns):\n",
      " #   Column  Non-Null Count  Dtype  \n",
      "---  ------  --------------  -----  \n",
      " 0   Close   214 non-null    float64\n",
      "dtypes: float64(1)\n",
      "memory usage: 3.3 KB\n"
     ]
    }
   ],
   "source": [
    "df.info()"
   ]
  },
  {
   "cell_type": "code",
   "execution_count": 9,
   "id": "c87b8d11",
   "metadata": {},
   "outputs": [],
   "source": [
    "df.rename(columns={'Close': 'price'}, inplace=True)"
   ]
  },
  {
   "cell_type": "code",
   "execution_count": 10,
   "id": "fbc9db59",
   "metadata": {},
   "outputs": [
    {
     "data": {
      "text/plain": [
       "DatetimeIndex(['2021-02-10', '2021-02-11', '2021-02-12', '2021-02-13',\n",
       "               '2021-02-14', '2021-02-15', '2021-02-16', '2021-02-17',\n",
       "               '2021-02-18', '2021-02-19',\n",
       "               ...\n",
       "               '2021-09-01', '2021-09-02', '2021-09-03', '2021-09-04',\n",
       "               '2021-09-05', '2021-09-06', '2021-09-07', '2021-09-08',\n",
       "               '2021-09-09', '2021-09-10'],\n",
       "              dtype='datetime64[ns]', name='Date', length=214, freq=None)"
      ]
     },
     "execution_count": 10,
     "metadata": {},
     "output_type": "execute_result"
    }
   ],
   "source": [
    "df.index"
   ]
  },
  {
   "cell_type": "code",
   "execution_count": 11,
   "id": "847c04a6",
   "metadata": {},
   "outputs": [
    {
     "data": {
      "image/png": "[encoded data removed]",
      "text/plain": [
       "<Figure size 864x720 with 1 Axes>"
      ]
     },
     "metadata": {
      "needs_background": "light"
     },
     "output_type": "display_data"
    }
   ],
   "source": [
    "# plot bitcore \n",
    "df.plot(subplots=True, figsize =(12,10))\n",
    "plt.show()"
   ]
  },
  {
   "cell_type": "code",
   "execution_count": null,
   "id": "2c46d73a",
   "metadata": {},
   "outputs": [],
   "source": [
    "import pickle"
   ]
  },
  {
   "cell_type": "code",
   "execution_count": null,
   "id": "d50c9574",
   "metadata": {},
   "outputs": [],
   "source": [
    "df.to_pickle(\"BitCoinData.pickle\")\n"
   ]
  },
  {
   "cell_type": "code",
   "execution_count": null,
   "id": "84a010ac",
   "metadata": {},
   "outputs": [],
   "source": [
    "df.to_csv('BitCoinData.csv')"
   ]
  }
 ],
 "metadata": {
  "kernelspec": {
   "display_name": "Python 3 (ipykernel)",
   "language": "python",
   "name": "python3"
  },
  "language_info": {
   "codemirror_mode": {
    "name": "ipython",
    "version": 3
   },
   "file_extension": ".py",
   "mimetype": "text/x-python",
   "name": "python",
   "nbconvert_exporter": "python",
   "pygments_lexer": "ipython3",
   "version": "3.9.7"
  }
 },
 "nbformat": 4,
 "nbformat_minor": 5
}
